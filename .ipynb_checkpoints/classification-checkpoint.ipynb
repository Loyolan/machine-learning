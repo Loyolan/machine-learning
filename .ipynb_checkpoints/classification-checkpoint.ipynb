{
 "cells": [
  {
   "cell_type": "code",
   "execution_count": 2,
   "id": "57ed75a7-4ff6-4814-a76d-e05a4a8d5899",
   "metadata": {},
   "outputs": [
    {
     "name": "stdout",
     "output_type": "stream",
     "text": [
      "      survived  pclass     sex      age\n",
      "0            1       1  female  29.0000\n",
      "1            1       1    male   0.9167\n",
      "2            0       1  female   2.0000\n",
      "3            0       1    male  30.0000\n",
      "4            0       1  female  25.0000\n",
      "...        ...     ...     ...      ...\n",
      "1304         0       3  female  14.5000\n",
      "1305         0       3  female      NaN\n",
      "1306         0       3    male  26.5000\n",
      "1307         0       3    male  27.0000\n",
      "1308         0       3    male  29.0000\n",
      "\n",
      "[1309 rows x 4 columns]\n"
     ]
    }
   ],
   "source": [
    "import numpy as np\n",
    "import pandas as pd\n",
    "import seaborn as sns\n",
    "import matplotlib.pyplot as plt\n",
    "from sklearn.neighbors import KNeighborsClassifier\n",
    "\n",
    "def survie(model, pclass=3, sex=0, age=22):\n",
    "    x = np.array([pclass, sex, age]).reshape(1, 3)\n",
    "    print(model.predict(x))\n",
    "    print(model.predict_proba(x))\n",
    "\n",
    "titanic = pd.read_excel('titanic3.xls')\n",
    "titanic = titanic[['survived', 'pclass', 'sex', 'age']]\n",
    "print(titanic)"
   ]
  },
  {
   "cell_type": "code",
   "execution_count": 3,
   "id": "66c6446e-68a5-4e42-9908-1c71df35dd9c",
   "metadata": {},
   "outputs": [
    {
     "name": "stdout",
     "output_type": "stream",
     "text": [
      "      survived  pclass     sex      age\n",
      "0            1       1  female  29.0000\n",
      "1            1       1    male   0.9167\n",
      "2            0       1  female   2.0000\n",
      "3            0       1    male  30.0000\n",
      "4            0       1  female  25.0000\n",
      "...        ...     ...     ...      ...\n",
      "1301         0       3    male  45.5000\n",
      "1304         0       3  female  14.5000\n",
      "1306         0       3    male  26.5000\n",
      "1307         0       3    male  27.0000\n",
      "1308         0       3    male  29.0000\n",
      "\n",
      "[1046 rows x 4 columns]\n"
     ]
    }
   ],
   "source": [
    "titanic.dropna(axis=0, inplace=True)\n",
    "print(titanic)"
   ]
  },
  {
   "cell_type": "code",
   "execution_count": 20,
   "id": "22599cb9-6a68-42ce-a7c5-3e45251f03ad",
   "metadata": {},
   "outputs": [
    {
     "data": {
      "text/plain": [
       "0.8279158699808795"
      ]
     },
     "execution_count": 20,
     "metadata": {},
     "output_type": "execute_result"
    }
   ],
   "source": [
    "model = KNeighborsClassifier()\n",
    "titanic['sex'].replace(['male', 'female'], [0,1], inplace=True)\n",
    "y = titanic['survived']\n",
    "X = titanic.drop('survived', axis=1)\n",
    "\n",
    "model.fit(X, y)\n",
    "predictions = model.score(X, y)\n",
    "predictions"
   ]
  },
  {
   "cell_type": "code",
   "execution_count": 23,
   "id": "b3ce417f-3a25-453e-8c53-3cac4732d3b6",
   "metadata": {},
   "outputs": [
    {
     "name": "stdout",
     "output_type": "stream",
     "text": [
      "[1]\n",
      "[[0.2 0.8]]\n"
     ]
    }
   ],
   "source": [
    "survie(model, 1, 1, 23)"
   ]
  },
  {
   "cell_type": "code",
   "execution_count": null,
   "id": "38ee4fac-92a0-479e-9347-e7f2a3951358",
   "metadata": {},
   "outputs": [],
   "source": [
    "from sklearn.model_selection import train_test_split\n",
    "\n",
    "X_train, X_test, y_train, y_test = train_test_split(X, y, test_size=0.2)"
   ]
  }
 ],
 "metadata": {
  "kernelspec": {
   "display_name": "Python 3 (ipykernel)",
   "language": "python",
   "name": "python3"
  },
  "language_info": {
   "codemirror_mode": {
    "name": "ipython",
    "version": 3
   },
   "file_extension": ".py",
   "mimetype": "text/x-python",
   "name": "python",
   "nbconvert_exporter": "python",
   "pygments_lexer": "ipython3",
   "version": "3.8.8"
  }
 },
 "nbformat": 4,
 "nbformat_minor": 5
}
