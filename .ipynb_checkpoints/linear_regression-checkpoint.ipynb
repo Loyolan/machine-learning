{
 "cells": [
  {
   "cell_type": "code",
   "execution_count": null,
   "id": "089fd13f-e437-4a01-9526-4a592382d64f",
   "metadata": {},
   "outputs": [],
   "source": [
    "import matplotlib.pyplot as plt\n",
    "from sklearn.datasets import load_iris\n",
    "\n",
    "fig, ax = plt.subplots(1, 1, sharex=True)\n",
    "iris = load_iris()\n",
    "x = iris.data\n",
    "y = iris.target\n",
    "ax = plt.axes(projection='3d')\n",
    "ax.scatter(x[:, 0], x[:, 1], x[:, 2], c=y)\n",
    "plt.show()"
   ]
  },
  {
   "cell_type": "code",
   "execution_count": null,
   "id": "d0bc0ed7-2503-46c8-ad17-11a4bcb19b48",
   "metadata": {},
   "outputs": [],
   "source": []
  },
  {
   "cell_type": "code",
   "execution_count": null,
   "id": "d2922c8c-dfd4-494c-b81c-3801e50313bd",
   "metadata": {},
   "outputs": [],
   "source": []
  }
 ],
 "metadata": {
  "kernelspec": {
   "display_name": "Python 3 (ipykernel)",
   "language": "python",
   "name": "python3"
  },
  "language_info": {
   "codemirror_mode": {
    "name": "ipython",
    "version": 3
   },
   "file_extension": ".py",
   "mimetype": "text/x-python",
   "name": "python",
   "nbconvert_exporter": "python",
   "pygments_lexer": "ipython3",
   "version": "3.8.8"
  }
 },
 "nbformat": 4,
 "nbformat_minor": 5
}
