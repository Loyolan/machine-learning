{
 "cells": [
  {
   "cell_type": "code",
   "execution_count": 1,
   "id": "57ed75a7-4ff6-4814-a76d-e05a4a8d5899",
   "metadata": {},
   "outputs": [
    {
     "name": "stdout",
     "output_type": "stream",
     "text": [
      "      survived  pclass     sex      age\n",
      "0            1       1  female  29.0000\n",
      "1            1       1    male   0.9167\n",
      "2            0       1  female   2.0000\n",
      "3            0       1    male  30.0000\n",
      "4            0       1  female  25.0000\n",
      "...        ...     ...     ...      ...\n",
      "1304         0       3  female  14.5000\n",
      "1305         0       3  female      NaN\n",
      "1306         0       3    male  26.5000\n",
      "1307         0       3    male  27.0000\n",
      "1308         0       3    male  29.0000\n",
      "\n",
      "[1309 rows x 4 columns]\n"
     ]
    }
   ],
   "source": [
    "import numpy as np\n",
    "import pandas as pd\n",
    "import seaborn as sns\n",
    "import matplotlib.pyplot as plt\n",
    "from sklearn.neighbors import KNeighborsClassifier\n",
    "\n",
    "def survie(model, pclass=3, sex=0, age=22):\n",
    "    x = np.array([pclass, sex, age]).reshape(1, 3)\n",
    "    print(model.predict(x))\n",
    "    print(model.predict_proba(x))\n",
    "\n",
    "titanic = pd.read_excel('titanic3.xls')\n",
    "titanic = titanic[['survived', 'pclass', 'sex', 'age']]\n",
    "print(titanic)"
   ]
  },
  {
   "cell_type": "code",
   "execution_count": 2,
   "id": "66c6446e-68a5-4e42-9908-1c71df35dd9c",
   "metadata": {},
   "outputs": [
    {
     "name": "stdout",
     "output_type": "stream",
     "text": [
      "      survived  pclass     sex      age\n",
      "0            1       1  female  29.0000\n",
      "1            1       1    male   0.9167\n",
      "2            0       1  female   2.0000\n",
      "3            0       1    male  30.0000\n",
      "4            0       1  female  25.0000\n",
      "...        ...     ...     ...      ...\n",
      "1301         0       3    male  45.5000\n",
      "1304         0       3  female  14.5000\n",
      "1306         0       3    male  26.5000\n",
      "1307         0       3    male  27.0000\n",
      "1308         0       3    male  29.0000\n",
      "\n",
      "[1046 rows x 4 columns]\n"
     ]
    }
   ],
   "source": [
    "titanic.dropna(axis=0, inplace=True)\n",
    "print(titanic)"
   ]
  },
  {
   "cell_type": "code",
   "execution_count": 3,
   "id": "22599cb9-6a68-42ce-a7c5-3e45251f03ad",
   "metadata": {},
   "outputs": [
    {
     "data": {
      "text/plain": [
       "0.8279158699808795"
      ]
     },
     "execution_count": 3,
     "metadata": {},
     "output_type": "execute_result"
    }
   ],
   "source": [
    "model = KNeighborsClassifier()\n",
    "titanic['sex'].replace(['male', 'female'], [0,1], inplace=True)\n",
    "y = titanic['survived']\n",
    "X = titanic.drop('survived', axis=1)\n",
    "\n",
    "model.fit(X, y)\n",
    "predictions = model.score(X, y)\n",
    "predictions"
   ]
  },
  {
   "cell_type": "code",
   "execution_count": 4,
   "id": "b3ce417f-3a25-453e-8c53-3cac4732d3b6",
   "metadata": {},
   "outputs": [
    {
     "name": "stdout",
     "output_type": "stream",
     "text": [
      "[1]\n",
      "[[0.2 0.8]]\n"
     ]
    }
   ],
   "source": [
    "survie(model, 1, 1, 23)"
   ]
  },
  {
   "cell_type": "code",
   "execution_count": 5,
   "id": "38ee4fac-92a0-479e-9347-e7f2a3951358",
   "metadata": {},
   "outputs": [
    {
     "name": "stdout",
     "output_type": "stream",
     "text": [
      "(836, 3)\n",
      "(210, 3)\n"
     ]
    }
   ],
   "source": [
    "from sklearn.model_selection import train_test_split\n",
    "\n",
    "X_train, X_test, y_train, y_test = train_test_split(X, y, test_size=0.2, random_state=3)\n",
    "print(X_train.shape)\n",
    "print(X_test.shape)"
   ]
  },
  {
   "cell_type": "code",
   "execution_count": 11,
   "id": "369262a7-706d-4a49-9410-2baf1edf5ba3",
   "metadata": {},
   "outputs": [
    {
     "data": {
      "text/plain": [
       "0.8253588516746412"
      ]
     },
     "execution_count": 11,
     "metadata": {},
     "output_type": "execute_result"
    }
   ],
   "source": [
    "from sklearn.neighbors import KNeighborsClassifier\n",
    "\n",
    "model = KNeighborsClassifier()\n",
    "model.fit(X_train, y_train)\n",
    "model.score(X_train, y_train)"
   ]
  },
  {
   "cell_type": "code",
   "execution_count": 12,
   "id": "c1ae380e-d42f-4e3e-9b06-a06a64723163",
   "metadata": {},
   "outputs": [
    {
     "data": {
      "text/plain": [
       "0.7714285714285715"
      ]
     },
     "execution_count": 12,
     "metadata": {},
     "output_type": "execute_result"
    }
   ],
   "source": [
    "model.score(X_test, y_test)"
   ]
  },
  {
   "cell_type": "code",
   "execution_count": 25,
   "id": "57b23ad3-b728-4b9e-83b5-c8c57fe7c53c",
   "metadata": {},
   "outputs": [
    {
     "data": {
      "text/plain": [
       "0.7679997148560023"
      ]
     },
     "execution_count": 25,
     "metadata": {},
     "output_type": "execute_result"
    }
   ],
   "source": [
    "from sklearn.model_selection import GridSearchCV\n",
    "param_grid = {\n",
    "    'n_neighbors': np.arange(1,50),\n",
    "    'metric': ['euclidean', 'manhattan', 'minkowski']\n",
    "}\n",
    "\n",
    "grid = GridSearchCV(KNeighborsClassifier(), param_grid, cv=5)\n",
    "grid.fit(X_train, y_train)\n",
    "grid.best_score_"
   ]
  },
  {
   "cell_type": "code",
   "execution_count": 26,
   "id": "acdefe97-22d4-4c74-b041-f1465574c53a",
   "metadata": {},
   "outputs": [
    {
     "data": {
      "text/plain": [
       "{'metric': 'manhattan', 'n_neighbors': 5}"
      ]
     },
     "execution_count": 26,
     "metadata": {},
     "output_type": "execute_result"
    }
   ],
   "source": [
    "grid.best_params_"
   ]
  },
  {
   "cell_type": "code",
   "execution_count": 27,
   "id": "4580d089-e7a5-4626-9b23-de7466a36da3",
   "metadata": {},
   "outputs": [
    {
     "data": {
      "text/plain": [
       "0.7761904761904762"
      ]
     },
     "execution_count": 27,
     "metadata": {},
     "output_type": "execute_result"
    }
   ],
   "source": [
    "model = grid.best_estimator_\n",
    "model.score(X_test, y_test)"
   ]
  },
  {
   "cell_type": "code",
   "execution_count": 28,
   "id": "9d0c2029-3291-42c3-9e1e-1b12d03ea65a",
   "metadata": {},
   "outputs": [
    {
     "data": {
      "text/plain": [
       "array([[106,  19],\n",
       "       [ 28,  57]])"
      ]
     },
     "execution_count": 28,
     "metadata": {},
     "output_type": "execute_result"
    }
   ],
   "source": [
    "from sklearn.metrics import confusion_matrix\n",
    "confusion_matrix(y_test, model.predict(X_test))"
   ]
  },
  {
   "cell_type": "code",
   "execution_count": 37,
   "id": "45bec780-920e-4ce9-acf4-6a84fc362c7e",
   "metadata": {},
   "outputs": [
    {
     "data": {
      "text/plain": [
       "array([133, 144, 155, 166, 177, 188, 199, 209, 220, 231, 242, 253, 264,\n",
       "       275, 286, 297, 308, 319, 329, 340, 351, 362, 373, 384, 395, 406,\n",
       "       417, 428, 438, 449, 460, 471, 482, 493, 504, 515, 526, 537, 548,\n",
       "       558, 569, 580, 591, 602, 613, 624, 635, 646, 657, 668])"
      ]
     },
     "execution_count": 37,
     "metadata": {},
     "output_type": "execute_result"
    }
   ],
   "source": [
    "from sklearn.model_selection import learning_curve\n",
    "N, train_score, val_score = learning_curve(model, X_train, y_train, train_sizes = np.linspace(0.2, 1.0, 50), cv=5)\n",
    "N"
   ]
  },
  {
   "cell_type": "code",
   "execution_count": 38,
   "id": "b90978ff-3085-4a96-80e0-291238bd44f5",
   "metadata": {},
   "outputs": [
    {
     "data": {
      "text/plain": [
       "<matplotlib.legend.Legend at 0x7f25a0510a00>"
      ]
     },
     "execution_count": 38,
     "metadata": {},
     "output_type": "execute_result"
    },
    {
     "data": {
      "image/png": "[encoded data removed]",
      "text/plain": [
       "<Figure size 432x288 with 1 Axes>"
      ]
     },
     "metadata": {
      "needs_background": "light"
     },
     "output_type": "display_data"
    }
   ],
   "source": [
    "plt.plot(N, train_score.mean(axis=1), label='TRAIN', c='g')\n",
    "plt.plot(N, val_score.mean(axis=1), label='VALIDATION', c='r')\n",
    "plt.xlabel('TRAIN SIZES')\n",
    "plt.legend()"
   ]
  },
  {
   "cell_type": "code",
   "execution_count": null,
   "id": "7b0cda52-ce83-4227-805d-464624b8ddf3",
   "metadata": {},
   "outputs": [],
   "source": []
  }
 ],
 "metadata": {
  "kernelspec": {
   "display_name": "Python 3 (ipykernel)",
   "language": "python",
   "name": "python3"
  },
  "language_info": {
   "codemirror_mode": {
    "name": "ipython",
    "version": 3
   },
   "file_extension": ".py",
   "mimetype": "text/x-python",
   "name": "python",
   "nbconvert_exporter": "python",
   "pygments_lexer": "ipython3",
   "version": "3.8.8"
  }
 },
 "nbformat": 4,
 "nbformat_minor": 5
}
